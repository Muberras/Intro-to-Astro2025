{
 "cells": [
  {
   "cell_type": "markdown",
   "id": "f175c915-6b8b-4c37-8090-b7c9fd595829",
   "metadata": {},
   "source": [
    "# Exoplanet Detection Methods"
   ]
  },
  {
   "cell_type": "markdown",
   "id": "b2785245-c3e5-40cf-89da-63aa3899e5ab",
   "metadata": {},
   "source": [
    "## 1) Inputs from the figures"
   ]
  },
  {
   "cell_type": "code",
   "execution_count": 45,
   "id": "c9116e4d-3d71-4247-b1ca-d5c070e00c2f",
   "metadata": {},
   "outputs": [
    {
     "name": "stdout",
     "output_type": "stream",
     "text": [
      "Inputs -> P=5.0 d, depth=0.2% , i=90.0 deg, K=2.3 m/s, e=0.0\n"
     ]
    }
   ],
   "source": [
    "P_days        = 5.0    # Period from Figure 1 (days)\n",
    "depth_percent = 0.2    # Transit depth from Figure 2 (%)\n",
    "incl_deg      = 90.0   # Inclination (deg) ~ 90 for transits\n",
    "K_ms          = 2.3    # RV semi-amplitude from Figure 3 (m/s)\n",
    "e             = 0.0    # Assume circular unless specified\n",
    "\n",
    "print(f\"Inputs -> P={P_days} d, depth={depth_percent}% , i={incl_deg} deg, K={K_ms} m/s, e={e}\")"
   ]
  },
  {
   "cell_type": "markdown",
   "id": "6db96ed2-905b-4ec8-a0f0-632e0e4a0268",
   "metadata": {},
   "source": [
    "## 2) Constants & stellar properties"
   ]
  },
  {
   "cell_type": "code",
   "execution_count": 48,
   "id": "e5b5ab9a-004c-4b40-8457-cad166fa2124",
   "metadata": {},
   "outputs": [
    {
     "name": "stdout",
     "output_type": "stream",
     "text": [
      "Star -> M* = 0.2 Msun, R* = 0.2 Rsun\n"
     ]
    }
   ],
   "source": [
    "# Physical constants (SI)\n",
    "G       = 6.67430e-11      # m^3 kg^-1 s^-2\n",
    "M_sun   = 1.98847e30       # kg\n",
    "R_sun   = 6.957e8          # m\n",
    "M_earth = 5.9722e24        # kg\n",
    "R_earth = 6.371e6          # m\n",
    "\n",
    "# Host star (given)\n",
    "M_star_Msun = 0.2\n",
    "R_star_Rsun = 0.2\n",
    "\n",
    "# Convert to SI\n",
    "M_star = M_star_Msun * M_sun\n",
    "R_star = R_star_Rsun * R_sun\n",
    "\n",
    "print(f\"Star -> M* = {M_star_Msun} Msun, R* = {R_star_Rsun} Rsun\")"
   ]
  },
  {
   "cell_type": "markdown",
   "id": "b661293d-3cc3-4665-8c1e-831e8b7b1584",
   "metadata": {},
   "source": [
    "## 3) Unit conversions"
   ]
  },
  {
   "cell_type": "code",
   "execution_count": 52,
   "id": "6f4e88b9-216c-4a1f-b801-1aa0028f2c87",
   "metadata": {},
   "outputs": [
    {
     "name": "stdout",
     "output_type": "stream",
     "text": [
      "P = 5.000 d = 432000 s; depth (fraction) = 0.00200\n"
     ]
    }
   ],
   "source": [
    "import math\n",
    "\n",
    "P_sec   = P_days * 86400.0\n",
    "inclrad = math.radians(incl_deg)\n",
    "depth   = depth_percent / 100.0\n",
    "K       = K_ms\n",
    "\n",
    "print(f\"P = {P_days:.3f} d = {P_sec:.0f} s; depth (fraction) = {depth:.5f}\")"
   ]
  },
  {
   "cell_type": "markdown",
   "id": "573a7fc1-7108-4abc-8e67-dc0997a48ed1",
   "metadata": {},
   "source": [
    "## 4) Planet radius from transit depth"
   ]
  },
  {
   "cell_type": "code",
   "execution_count": 55,
   "id": "a2093700-0030-4447-b752-c4456a6d8b34",
   "metadata": {},
   "outputs": [
    {
     "name": "stdout",
     "output_type": "stream",
     "text": [
      "Planet radius ≈ 0.977 R_earth\n"
     ]
    }
   ],
   "source": [
    "# δ ≈ (Rp/R*)^2  =>  Rp = R* sqrt(δ)\n",
    "Rp_m  = R_star * math.sqrt(depth)\n",
    "Rp_Re = Rp_m / R_earth\n",
    "\n",
    "print(f\"Planet radius ≈ {Rp_Re:.3f} R_earth\")"
   ]
  },
  {
   "cell_type": "markdown",
   "id": "fb2c54b5-80b0-4af4-b6aa-63842416c867",
   "metadata": {},
   "source": [
    "## 5) Planet mass from RV semi-amplitude K"
   ]
  },
  {
   "cell_type": "code",
   "execution_count": 58,
   "id": "0414915b-9af0-488a-9b16-8017931dfb64",
   "metadata": {},
   "outputs": [
    {
     "name": "stdout",
     "output_type": "stream",
     "text": [
      "Planet mass ≈ 2.103 M_earth (with K=2.3 m/s)\n"
     ]
    }
   ],
   "source": [
    "# K = (2πG/P)^{1/3} * (Mp sin i) / (M*+Mp)^{2/3} * 1/sqrt(1-e^2)\n",
    "# For Mp << M* and e≈0: Mp sin i ≈ K * M*^{2/3} * (P / (2πG))^{1/3}\n",
    "factor    = (P_sec / (2.0*math.pi*G))**(1.0/3.0)\n",
    "Mp_sin_i  = K * (M_star**(2.0/3.0)) * factor\n",
    "Mp_kg     = Mp_sin_i / max(math.sin(inclrad), 1e-6)   # i ≈ 90° → sin i ≈ 1\n",
    "Mp_Mearth = Mp_kg / M_earth\n",
    "\n",
    "print(f\"Planet mass ≈ {Mp_Mearth:.3f} M_earth (with K={K_ms} m/s)\")"
   ]
  },
  {
   "cell_type": "markdown",
   "id": "95600f6b-f5aa-42d8-9190-dd5402898a58",
   "metadata": {},
   "source": [
    "## 6) Density & rough composition"
   ]
  },
  {
   "cell_type": "code",
   "execution_count": 61,
   "id": "bde00b3f-f740-4138-8fa8-64e04c67a34a",
   "metadata": {},
   "outputs": [
    {
     "name": "stdout",
     "output_type": "stream",
     "text": [
      "Density ≈ 12.45 g/cc  →  Iron-rich\n"
     ]
    }
   ],
   "source": [
    "# ρ = M / (4/3 π R^3)\n",
    "vol_m3   = (4.0/3.0) * math.pi * (Rp_m**3)\n",
    "rho_kgm3 = Mp_kg / vol_m3\n",
    "rho_gcc  = rho_kgm3 / 1000.0\n",
    "\n",
    "def composition_guess(rho):\n",
    "    if rho >= 7.0:   return \"Iron-rich\"\n",
    "    if rho >= 5.0:   return \"Dense rocky (rock+iron > Earth-like)\"\n",
    "    if rho >= 3.0:   return \"Earth-like rocky (silicate+iron)\"\n",
    "    if rho >= 1.0:   return \"Volatile/water-rich / mini-Neptune\"\n",
    "    return \"Very low density (gas-rich/mini-Neptune)\"\n",
    "\n",
    "print(f\"Density ≈ {rho_gcc:.2f} g/cc  →  {composition_guess(rho_gcc)}\")"
   ]
  },
  {
   "cell_type": "code",
   "execution_count": 69,
   "id": "0f4fbf26-cd5f-4010-b4ee-ffa010c178cd",
   "metadata": {},
   "outputs": [
    {
     "name": "stdout",
     "output_type": "stream",
     "text": [
      "\n",
      "Exoplanet Characterization\n",
      "\n",
      "(a) Inclination of GJ 8999 b:\n",
      "    Because the planet transits the star, the orbit is nearly edge-on.\n",
      "    Answer: i ≈ 90°.\n",
      "\n",
      "(b) What is the period of this exoplanet?\n",
      "    From Figure 1, the spacing between transit midpoints is ~5 days.\n",
      "    Answer: P ≈ 5.0 days.\n",
      "\n",
      "(c) What is the transit depth and the planet's radius?\n",
      "    Depth from Figure 2: ~0.200% (fraction 0.00200).\n",
      "    Using δ ≈ (Rp/R*)^2, Rp = R*√δ → Rp ≈ 0.977 R_earth.\n",
      "\n",
      "(d) What is the semi-amplitude K of this planetary signal?\n",
      "    From Figure 3, K ≈ 2.30 m/s (half the peak-to-peak).\n",
      "\n",
      "(e) What is the planet's mass?\n",
      "    Using K, P, i (with e≈0 and Mp << M*):\n",
      "    Mp ≈ 2.103 M_earth.\n",
      "\n",
      "(f) Bulk density & rough composition:\n",
      "    ρ ≈ 12.45 g/cc  →  Iron-rich.\n",
      "\n"
     ]
    }
   ],
   "source": [
    "answers = f\"\"\"\n",
    "Exoplanet Characterization\n",
    "\n",
    "(a) Inclination of GJ 8999 b:\n",
    "    Because the planet transits the star, the orbit is nearly edge-on.\n",
    "    Answer: i ≈ 90°.\n",
    "\n",
    "(b) What is the period of this exoplanet?\n",
    "    From Figure 1, the spacing between transit midpoints is ~5 days.\n",
    "    Answer: P ≈ {P_days:.1f} days.\n",
    "\n",
    "(c) What is the transit depth and the planet's radius?\n",
    "    Depth from Figure 2: ~{depth_percent:.3f}% (fraction {depth:.5f}).\n",
    "    Using δ ≈ (Rp/R*)^2, Rp = R*√δ → Rp ≈ {Rp_Re:.3f} R_earth.\n",
    "\n",
    "(d) What is the semi-amplitude K of this planetary signal?\n",
    "    From Figure 3, K ≈ {K_ms:.2f} m/s (half the peak-to-peak).\n",
    "\n",
    "(e) What is the planet's mass?\n",
    "    Using K, P, i (with e≈0 and Mp << M*):\n",
    "    Mp ≈ {Mp_Mearth:.3f} M_earth.\n",
    "\n",
    "(f) Bulk density & rough composition:\n",
    "    ρ ≈ {rho_gcc:.2f} g/cc  →  {composition_guess(rho_gcc)}.\n",
    "\"\"\"\n",
    "print(answers)"
   ]
  }
 ],
 "metadata": {
  "kernelspec": {
   "display_name": "Python (pycaret_clean)",
   "language": "python",
   "name": "pycaret_clean"
  },
  "language_info": {
   "codemirror_mode": {
    "name": "ipython",
    "version": 3
   },
   "file_extension": ".py",
   "mimetype": "text/x-python",
   "name": "python",
   "nbconvert_exporter": "python",
   "pygments_lexer": "ipython3",
   "version": "3.10.18"
  }
 },
 "nbformat": 4,
 "nbformat_minor": 5
}
